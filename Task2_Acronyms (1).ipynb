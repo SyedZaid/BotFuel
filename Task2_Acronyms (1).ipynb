{
  "nbformat": 4,
  "nbformat_minor": 0,
  "metadata": {
    "colab": {
      "name": "Task2_Acronyms.ipynb",
      "provenance": []
    },
    "kernelspec": {
      "name": "python3",
      "display_name": "Python 3"
    }
  },
  "cells": [
    {
      "cell_type": "code",
      "metadata": {
        "id": "wSBxE2eu_LSk",
        "colab_type": "code",
        "colab": {}
      },
      "source": [
        "******User Input****"
      ],
      "execution_count": 0,
      "outputs": []
    },
    {
      "cell_type": "code",
      "metadata": {
        "id": "76loIGa38G9C",
        "colab_type": "code",
        "colab": {}
      },
      "source": [
        "def acronyms(a):\n",
        "  sentence = input(\"The Sentence you need for acronymization :\")\n",
        "  expansion_list=[]\n",
        "  acronym_list=[]\n",
        "  \n",
        "  s = sentence.split()\n",
        "  s= [i[0] for i in s]\n",
        "  s=[i.upper() for i in s]\n",
        "  s=' '.join(s)\n",
        "  a.append(sentence +\"-\" + s)"
      ],
      "execution_count": 0,
      "outputs": []
    },
    {
      "cell_type": "code",
      "metadata": {
        "id": "-nDGMlQGCL_N",
        "colab_type": "code",
        "colab": {}
      },
      "source": [
        "arr = []"
      ],
      "execution_count": 0,
      "outputs": []
    },
    {
      "cell_type": "code",
      "metadata": {
        "id": "owS9TFTbvya3",
        "colab_type": "code",
        "colab": {
          "base_uri": "https://localhost:8080/",
          "height": 34
        },
        "outputId": "503b6589-fe1c-4dcb-fb5d-939222089d24"
      },
      "source": [
        "res = acronyms(arr)"
      ],
      "execution_count": 192,
      "outputs": [
        {
          "output_type": "stream",
          "text": [
            "The Sentence you need for acronymization :Recommender Systems\n"
          ],
          "name": "stdout"
        }
      ]
    },
    {
      "cell_type": "code",
      "metadata": {
        "id": "zj0PDW9KCS7b",
        "colab_type": "code",
        "colab": {
          "base_uri": "https://localhost:8080/",
          "height": 34
        },
        "outputId": "9a73271f-8c69-426c-cda0-2f4af922e73b"
      },
      "source": [
        "print(arr)"
      ],
      "execution_count": 193,
      "outputs": [
        {
          "output_type": "stream",
          "text": [
            "['deva seeman-D S', 'syed zaid-S Z', 'Information Technology-I T', 'Machine Learning-M L', 'Digital Signal Processing-D S P', 'Recommender Systems-R S']\n"
          ],
          "name": "stdout"
        }
      ]
    },
    {
      "cell_type": "code",
      "metadata": {
        "id": "4lyRzsxWuYQs",
        "colab_type": "code",
        "colab": {}
      },
      "source": [
        "\n"
      ],
      "execution_count": 0,
      "outputs": []
    },
    {
      "cell_type": "markdown",
      "metadata": {
        "id": "GPvpg-D-DIB5",
        "colab_type": "text"
      },
      "source": [
        "HardCore Method"
      ]
    }
  ]
}