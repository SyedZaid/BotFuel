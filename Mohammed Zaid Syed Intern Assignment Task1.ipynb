{
 "cells": [
  {
   "cell_type": "code",
   "execution_count": 1,
   "metadata": {},
   "outputs": [],
   "source": [
    "Task #1: abbreviations "
   ]
  },
  {
   "cell_type": "code",
   "execution_count": null,
   "metadata": {},
   "outputs": [],
   "source": [
    "import reimport re"
   ]
  },
  {
   "cell_type": "code",
   "execution_count": 186,
   "metadata": {},
   "outputs": [],
   "source": [
    "def abbrcheck(str1,str2):\n",
    "    len1= len(str1)\n",
    "    len2 = len(str2)/2\n",
    "    lowword = str2.lower()\n",
    "    lowabbr = str1.lower()\n",
    "    count = 0\n",
    "    if(str1.isalpha()) and (str2.isalpha()):\n",
    "        if(str1[0]==str2[0]):\n",
    "            if (len1 < 7 and len1<=len2):\n",
    "                    for c in lowabbr:\n",
    "                        if c in lowword:\n",
    "                            count+=1\n",
    "                    if (count == len1):\n",
    "                        if(str2.__contains__(str1)):\n",
    "                            print(\"Its a substring\")\n",
    "                        else:\n",
    "                            print(\"Pass...It's an abbrevation\")\n",
    "                    else:\n",
    "                        print(\"S2 characters to be deleted to obtain S1\")        \n",
    "            else:\n",
    "                print(\"Length invalid\")  \n",
    "        else:\n",
    "            print(\"first characters of strings doesnt match\")\n",
    "    else:\n",
    "        print(\"Its not an alphabet\")\n",
    "\n",
    "     \n"
   ]
  },
  {
   "cell_type": "code",
   "execution_count": 179,
   "metadata": {},
   "outputs": [
    {
     "name": "stdout",
     "output_type": "stream",
     "text": [
      "Pass...It's an abbrevation\n"
     ]
    }
   ],
   "source": [
    "res = abbrcheck(\"bjr\",\"bonjour\")"
   ]
  },
  {
   "cell_type": "code",
   "execution_count": 180,
   "metadata": {},
   "outputs": [
    {
     "name": "stdout",
     "output_type": "stream",
     "text": [
      "Length invalid\n"
     ]
    }
   ],
   "source": [
    "res = abbrcheck(\"dd\",\"dad\")"
   ]
  },
  {
   "cell_type": "code",
   "execution_count": 181,
   "metadata": {},
   "outputs": [
    {
     "name": "stdout",
     "output_type": "stream",
     "text": [
      "Its a substring\n"
     ]
    }
   ],
   "source": [
    "res = abbrcheck(\"ser\",\"service\")"
   ]
  },
  {
   "cell_type": "code",
   "execution_count": 182,
   "metadata": {},
   "outputs": [
    {
     "name": "stdout",
     "output_type": "stream",
     "text": [
      "Its not an alphabet\n"
     ]
    }
   ],
   "source": [
    "res = abbrcheck(\"2d\",\"d2d\")"
   ]
  },
  {
   "cell_type": "code",
   "execution_count": 187,
   "metadata": {},
   "outputs": [
    {
     "name": "stdout",
     "output_type": "stream",
     "text": [
      "S2 characters to be deleted to obtain S1\n"
     ]
    }
   ],
   "source": [
    "res = abbrcheck(\"dat\",\"dawery\")"
   ]
  },
  {
   "cell_type": "code",
   "execution_count": 188,
   "metadata": {},
   "outputs": [
    {
     "name": "stdout",
     "output_type": "stream",
     "text": [
      "first characters of strings doesnt match\n"
     ]
    }
   ],
   "source": [
    "res = abbrcheck(\"eer\",\"service\")"
   ]
  },
  {
   "cell_type": "code",
   "execution_count": null,
   "metadata": {},
   "outputs": [],
   "source": []
  },
  {
   "cell_type": "code",
   "execution_count": null,
   "metadata": {},
   "outputs": [],
   "source": [
    "Task #2: Mining acronyms \n"
   ]
  },
  {
   "cell_type": "code",
   "execution_count": null,
   "metadata": {},
   "outputs": [],
   "source": []
  },
  {
   "cell_type": "code",
   "execution_count": null,
   "metadata": {},
   "outputs": [],
   "source": []
  },
  {
   "cell_type": "code",
   "execution_count": null,
   "metadata": {},
   "outputs": [],
   "source": [
    "\n"
   ]
  },
  {
   "cell_type": "code",
   "execution_count": null,
   "metadata": {},
   "outputs": [],
   "source": []
  }
 ],
 "metadata": {
  "kernelspec": {
   "display_name": "Python 3",
   "language": "python",
   "name": "python3"
  },
  "language_info": {
   "codemirror_mode": {
    "name": "ipython",
    "version": 3
   },
   "file_extension": ".py",
   "mimetype": "text/x-python",
   "name": "python",
   "nbconvert_exporter": "python",
   "pygments_lexer": "ipython3",
   "version": "3.6.5"
  }
 },
 "nbformat": 4,
 "nbformat_minor": 2
}
